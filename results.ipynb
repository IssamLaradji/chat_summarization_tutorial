{
 "cells": [
  {
   "cell_type": "code",
   "execution_count": 2,
   "id": "9cb394f9",
   "metadata": {},
   "outputs": [
    {
     "name": "stderr",
     "output_type": "stream",
     "text": [
      "100%|██████████| 5/5 [00:00<00:00, 2231.25it/s]\n"
     ]
    },
    {
     "data": {
      "application/vnd.jupyter.widget-view+json": {
       "model_id": "b15b41975a9b4366a3e91287a4459615",
       "version_major": 2,
       "version_minor": 0
      },
      "text/plain": [
       "Label(value='Loading Dashboard...', layout=Layout(width='800px'))"
      ]
     },
     "metadata": {},
     "output_type": "display_data"
    },
    {
     "data": {
      "application/vnd.jupyter.widget-view+json": {
       "model_id": "64473a67c32f43e4a80ed68859c3d9a6",
       "version_major": 2,
       "version_minor": 0
      },
      "text/plain": [
       "Output()"
      ]
     },
     "metadata": {},
     "output_type": "display_data"
    },
    {
     "data": {
      "application/vnd.jupyter.widget-view+json": {
       "model_id": "5b6a2135f67f4ac39c128077876b4e9d",
       "version_major": 2,
       "version_minor": 0
      },
      "text/plain": [
       "Output()"
      ]
     },
     "metadata": {},
     "output_type": "display_data"
    },
    {
     "data": {
      "application/vnd.jupyter.widget-view+json": {
       "model_id": "d72165161c2d447b938ce89ea614dc7a",
       "version_major": 2,
       "version_minor": 0
      },
      "text/plain": [
       "Output()"
      ]
     },
     "metadata": {},
     "output_type": "display_data"
    },
    {
     "data": {
      "application/vnd.jupyter.widget-view+json": {
       "model_id": "b18b2f8e46c34f76bb85983fbe2b8f41",
       "version_major": 2,
       "version_minor": 0
      },
      "text/plain": [
       "Output()"
      ]
     },
     "metadata": {},
     "output_type": "display_data"
    },
    {
     "data": {
      "application/vnd.jupyter.widget-view+json": {
       "model_id": "a24cacdfb1474dd49ead40bd669ac31e",
       "version_major": 2,
       "version_minor": 0
      },
      "text/plain": [
       "Output()"
      ]
     },
     "metadata": {},
     "output_type": "display_data"
    },
    {
     "data": {
      "application/vnd.jupyter.widget-view+json": {
       "model_id": "cd6b569eea4f43459cac89b2eeb92c1c",
       "version_major": 2,
       "version_minor": 0
      },
      "text/plain": [
       "Output()"
      ]
     },
     "metadata": {},
     "output_type": "display_data"
    },
    {
     "data": {
      "text/html": [
       "\n",
       "        <style>\n",
       "            .output_scroll {\n",
       "                height: unset !important;\n",
       "                border-radius: unset !important;\n",
       "                -webkit-box-shadow: unset !important;\n",
       "                box-shadow: unset !important;\n",
       "            }\n",
       "        </style>\n",
       "        "
      ],
      "text/plain": [
       "<IPython.core.display.HTML object>"
      ]
     },
     "metadata": {},
     "output_type": "display_data"
    },
    {
     "data": {
      "text/plain": [
       "<haven.haven_jupyter.DashboardManager at 0x7fb06dd61d60>"
      ]
     },
     "execution_count": 2,
     "metadata": {},
     "output_type": "execute_result"
    }
   ],
   "source": [
    "\n",
    "from haven import haven_jupyter as hj\n",
    "from haven import haven_results as hr\n",
    "from haven import haven_utils as hu\n",
    "\n",
    "# path to where the experiments got saved\n",
    "savedir_base = '/mnt/home/projects/chat_summarization_tutorial/results'\n",
    "exp_list = None\n",
    "\n",
    "# get experiments from the exp config\n",
    "exp_config_fname = None\n",
    "if exp_config_fname:\n",
    "    config = hu.load_py(exp_config_fname)\n",
    "    exp_list = []\n",
    "    for exp_group in [\n",
    "        \"example\"\n",
    "                    ]:\n",
    "        exp_list += config.EXP_GROUPS[exp_group]\n",
    "\n",
    "# filter exps\n",
    "\n",
    "filterby_list = None\n",
    "# filterby_list =[{'dataset':'mnist'}]\n",
    "\n",
    "# get experiments\n",
    "rm = hr.ResultManager(exp_list=exp_list,\n",
    "                      savedir_base=savedir_base,\n",
    "                      filterby_list=filterby_list,\n",
    "                      verbose=0,\n",
    "                      exp_groups=None,\n",
    "                      job_scheduler='slurm'\n",
    "                     )\n",
    "\n",
    "# specify display parameters\n",
    "\n",
    "# groupby_list = ['dataset']\n",
    "# title_list = ['dataset']\n",
    "# legend_list = ['model']\n",
    "y_metrics = ['train_loss']\n",
    "x_metric = 'epoch'\n",
    "\n",
    "# launch dashboard\n",
    "hj.get_dashboard(rm, vars(), wide_display=False, enable_datatables=False)\n",
    "          "
   ]
  },
  {
   "cell_type": "code",
   "execution_count": null,
   "id": "057341df",
   "metadata": {},
   "outputs": [],
   "source": [
    "\n",
    "# get table \n",
    "rm.get_score_df().head()\n",
    "\n",
    "# get latex \n",
    "# print(rm.get_latex_table(legend=['dataset'], metrics=['train_loss'], decimals=1, caption=\"Results\", label='tab:results'))\n",
    "\n",
    "# get custom plots\n",
    "fig = rm.get_plot_all(\n",
    "                # order='metrics_by_groups',\n",
    "                # avg_across='runs',\n",
    "                y_metric_list=y_metrics, \n",
    "                x_metric=x_metric,\n",
    "                # legend_fontsize=18,\n",
    "                # x_fontsize=20,\n",
    "                # y_fontsize=20,\n",
    "                # xtick_fontsize=20,\n",
    "                # ytick_fontsize=20,\n",
    "                # title_fontsize=24,\n",
    "                # legend_list=['model], \n",
    "                # title_list = ['dataset'], \n",
    "                # title_format='Dataset:{}',\n",
    "                # log_metric_list = ['train_loss'], \n",
    "                # groupby_list = ['dataset'],\n",
    "                # map_ylabel_list=[{'train_loss':'Train loss'}],\n",
    "                # map_xlabel_list=[{'epoch':'Epoch'}],\n",
    "                # figsize=(15,5),\n",
    "                # plot_confidence=False,\n",
    "                # savedir_plots='%s' % (name)\n",
    ")\n",
    "          "
   ]
  },
  {
   "cell_type": "code",
   "execution_count": null,
   "id": "f01b8a26",
   "metadata": {},
   "outputs": [],
   "source": [
    "\n",
    "    !pip install --upgrade git+https://github.com/haven-ai/haven-ai\n",
    "          "
   ]
  }
 ],
 "metadata": {
  "kernelspec": {
   "display_name": "Python 3.8.5 ('base')",
   "language": "python",
   "name": "python3"
  },
  "language_info": {
   "codemirror_mode": {
    "name": "ipython",
    "version": 3
   },
   "file_extension": ".py",
   "mimetype": "text/x-python",
   "name": "python",
   "nbconvert_exporter": "python",
   "pygments_lexer": "ipython3",
   "version": "3.8.5"
  },
  "vscode": {
   "interpreter": {
    "hash": "689542b41ded2634613fec958bcc9c4823364f94e511feaf55c247f025e32c3c"
   }
  }
 },
 "nbformat": 4,
 "nbformat_minor": 5
}
