{
 "cells": [
  {
   "cell_type": "code",
   "execution_count": 1,
   "id": "9cb394f9",
   "metadata": {},
   "outputs": [
    {
     "name": "stderr",
     "output_type": "stream",
     "text": [
      "100%|██████████| 3/3 [00:00<00:00, 3353.65it/s]\n"
     ]
    },
    {
     "data": {
      "application/vnd.jupyter.widget-view+json": {
       "model_id": "eef1103254734b8e81f3a515bd514029",
       "version_major": 2,
       "version_minor": 0
      },
      "text/plain": [
       "Label(value='Loading Dashboard...', layout=Layout(width='800px'))"
      ]
     },
     "metadata": {},
     "output_type": "display_data"
    },
    {
     "data": {
      "application/vnd.jupyter.widget-view+json": {
       "model_id": "64e49a49a05d4d0c92fa47006e72d612",
       "version_major": 2,
       "version_minor": 0
      },
      "text/plain": [
       "Output()"
      ]
     },
     "metadata": {},
     "output_type": "display_data"
    },
    {
     "data": {
      "application/vnd.jupyter.widget-view+json": {
       "model_id": "6834b083eb4643c5b6ca64dae22ad8da",
       "version_major": 2,
       "version_minor": 0
      },
      "text/plain": [
       "Output()"
      ]
     },
     "metadata": {},
     "output_type": "display_data"
    },
    {
     "data": {
      "application/vnd.jupyter.widget-view+json": {
       "model_id": "d3c4f6d823d14ec9929f3a1f9d5e4502",
       "version_major": 2,
       "version_minor": 0
      },
      "text/plain": [
       "Output()"
      ]
     },
     "metadata": {},
     "output_type": "display_data"
    },
    {
     "data": {
      "application/vnd.jupyter.widget-view+json": {
       "model_id": "10b350e1add14e648e470a09015fcc1e",
       "version_major": 2,
       "version_minor": 0
      },
      "text/plain": [
       "Output()"
      ]
     },
     "metadata": {},
     "output_type": "display_data"
    },
    {
     "data": {
      "application/vnd.jupyter.widget-view+json": {
       "model_id": "1860081d2fba4bf6adb9b1a10d0904d2",
       "version_major": 2,
       "version_minor": 0
      },
      "text/plain": [
       "Output()"
      ]
     },
     "metadata": {},
     "output_type": "display_data"
    },
    {
     "data": {
      "application/vnd.jupyter.widget-view+json": {
       "model_id": "de65ca26fd254e7aad8a914eed4ef34b",
       "version_major": 2,
       "version_minor": 0
      },
      "text/plain": [
       "Output()"
      ]
     },
     "metadata": {},
     "output_type": "display_data"
    },
    {
     "data": {
      "text/html": [
       "\n",
       "        <style>\n",
       "            .output_scroll {\n",
       "                height: unset !important;\n",
       "                border-radius: unset !important;\n",
       "                -webkit-box-shadow: unset !important;\n",
       "                box-shadow: unset !important;\n",
       "            }\n",
       "        </style>\n",
       "        "
      ],
      "text/plain": [
       "<IPython.core.display.HTML object>"
      ]
     },
     "metadata": {},
     "output_type": "display_data"
    },
    {
     "data": {
      "text/plain": [
       "<haven.haven_jupyter.DashboardManager at 0x7fafb84c2b80>"
      ]
     },
     "execution_count": 1,
     "metadata": {},
     "output_type": "execute_result"
    }
   ],
   "source": [
    "\n",
    "from haven import haven_jupyter as hj\n",
    "from haven import haven_results as hr\n",
    "from haven import haven_utils as hu\n",
    "\n",
    "# path to where the experiments got saved\n",
    "savedir_base = '/mnt/home/projects/chat_summarization_tutorial/results'\n",
    "exp_list = None\n",
    "\n",
    "# get experiments from the exp config\n",
    "exp_config_fname = None\n",
    "if exp_config_fname:\n",
    "    config = hu.load_py(exp_config_fname)\n",
    "    exp_list = []\n",
    "    for exp_group in [\n",
    "        \"example\"\n",
    "                    ]:\n",
    "        exp_list += config.EXP_GROUPS[exp_group]\n",
    "\n",
    "# filter exps\n",
    "\n",
    "filterby_list = None\n",
    "# filterby_list =[{'dataset':'mnist'}]\n",
    "\n",
    "# get experiments\n",
    "rm = hr.ResultManager(exp_list=exp_list,\n",
    "                      savedir_base=savedir_base,\n",
    "                      filterby_list=filterby_list,\n",
    "                      verbose=0,\n",
    "                      exp_groups=None,\n",
    "                      job_scheduler='slurm'\n",
    "                     )\n",
    "\n",
    "# specify display parameters\n",
    "\n",
    "# groupby_list = ['dataset']\n",
    "# title_list = ['dataset']\n",
    "# legend_list = ['model']\n",
    "y_metrics = ['train_loss']\n",
    "x_metric = 'epoch'\n",
    "\n",
    "# launch dashboard\n",
    "hj.get_dashboard(rm, vars(), wide_display=False, enable_datatables=False)\n",
    "          "
   ]
  },
  {
   "cell_type": "code",
   "execution_count": null,
   "id": "057341df",
   "metadata": {},
   "outputs": [
    {
     "ename": "",
     "evalue": "",
     "output_type": "error",
     "traceback": [
      "\u001b[1;31mFailed to start the Kernel. \n",
      "Cannot execute code, session has been disposed. \n",
      "View Jupyter <a href='command:jupyter.viewOutput'>log</a> for further details."
     ]
    }
   ],
   "source": [
    "\n",
    "# get table \n",
    "rm.get_score_df().head()\n",
    "\n",
    "# get latex \n",
    "# print(rm.get_latex_table(legend=['dataset'], metrics=['train_loss'], decimals=1, caption=\"Results\", label='tab:results'))\n",
    "\n",
    "# get custom plots\n",
    "fig = rm.get_plot_all(\n",
    "                # order='metrics_by_groups',\n",
    "                # avg_across='runs',\n",
    "                y_metric_list=y_metrics, \n",
    "                x_metric=x_metric,\n",
    "                # legend_fontsize=18,\n",
    "                # x_fontsize=20,\n",
    "                # y_fontsize=20,\n",
    "                # xtick_fontsize=20,\n",
    "                # ytick_fontsize=20,\n",
    "                # title_fontsize=24,\n",
    "                # legend_list=['model], \n",
    "                # title_list = ['dataset'], \n",
    "                # title_format='Dataset:{}',\n",
    "                # log_metric_list = ['train_loss'], \n",
    "                # groupby_list = ['dataset'],\n",
    "                # map_ylabel_list=[{'train_loss':'Train loss'}],\n",
    "                # map_xlabel_list=[{'epoch':'Epoch'}],\n",
    "                # figsize=(15,5),\n",
    "                # plot_confidence=False,\n",
    "                # savedir_plots='%s' % (name)\n",
    ")\n",
    "          "
   ]
  },
  {
   "cell_type": "code",
   "execution_count": null,
   "id": "f01b8a26",
   "metadata": {},
   "outputs": [],
   "source": [
    "\n",
    "    !pip install --upgrade git+https://github.com/haven-ai/haven-ai\n",
    "          "
   ]
  }
 ],
 "metadata": {
  "kernelspec": {
   "display_name": "Python 3.8.5 ('base')",
   "language": "python",
   "name": "python3"
  },
  "language_info": {
   "codemirror_mode": {
    "name": "ipython",
    "version": 3
   },
   "file_extension": ".py",
   "mimetype": "text/x-python",
   "name": "python",
   "nbconvert_exporter": "python",
   "pygments_lexer": "ipython3",
   "version": "3.8.5"
  },
  "vscode": {
   "interpreter": {
    "hash": "689542b41ded2634613fec958bcc9c4823364f94e511feaf55c247f025e32c3c"
   }
  }
 },
 "nbformat": 4,
 "nbformat_minor": 5
}
